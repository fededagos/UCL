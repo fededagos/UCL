{
 "cells": [
  {
   "cell_type": "code",
   "execution_count": 19,
   "metadata": {},
   "outputs": [],
   "source": [
    "import numpy as np\n",
    "import matplotlib.pyplot as plt"
   ]
  },
  {
   "cell_type": "code",
   "execution_count": 20,
   "metadata": {},
   "outputs": [],
   "source": [
    "# Generating some simple x values over the [0, 2) interval.\n",
    "x = np.random.rand(20) * 2"
   ]
  },
  {
   "cell_type": "code",
   "execution_count": 21,
   "metadata": {},
   "outputs": [],
   "source": [
    "# Generating labels with noise\n",
    "y = 4 * x + np.random.normal(0, 0.3, x.shape[0])  + 3"
   ]
  },
  {
   "cell_type": "code",
   "execution_count": 22,
   "metadata": {},
   "outputs": [
    {
     "data": {
      "image/png": "[encoded data removed]",
      "text/plain": [
       "<Figure size 432x288 with 1 Axes>"
      ]
     },
     "metadata": {
      "needs_background": "light"
     },
     "output_type": "display_data"
    }
   ],
   "source": [
    "# Visualising our simple dataset\n",
    "plt.scatter(x, y);"
   ]
  },
  {
   "cell_type": "code",
   "execution_count": 23,
   "metadata": {},
   "outputs": [],
   "source": [
    "def kernel(x_i, x_j, c = 1):\n",
    "    \"\"\"Simple definition of the linear kernel\"\"\"\n",
    "    return x_i.T @ x_j + c\n",
    "\n",
    "def kernel_matrix(data, c = 1):\n",
    "    \"\"\"Building up the kernel matrix with the linear kernel\"\"\"\n",
    "    if data.ndim == 1:\n",
    "        data = data[:, None]\n",
    "    kernel_matrix = np.ones((data.shape[0], data.shape[0]))\n",
    "    for i in range(data.shape[0]):\n",
    "        for j in range(data.shape[0]):\n",
    "            kernel_matrix[i,j] = kernel(data[i,:], data[j,:], c) \n",
    "    \n",
    "    return kernel_matrix"
   ]
  },
  {
   "cell_type": "code",
   "execution_count": 24,
   "metadata": {},
   "outputs": [],
   "source": [
    "def kernel_regression(K, y):\n",
    "    \"\"\"Calculate the kernelised ridge regression coefficients for the given data.\n",
    "    \n",
    "    Args:\n",
    "    K (ndarray): The kernel matrix for the data.\n",
    "    y (ndarray): The y values for the data.\n",
    "    \n",
    "    Returns:\n",
    "    alpha (ndarray): Array of regression coefficients for the given data.\"\"\"\n",
    "\n",
    "    alpha = np.linalg.pinv(K) @ y # Using pseudoinverse since we do not have a regulariser and can incur in numerical errors\n",
    "    return alpha"
   ]
  },
  {
   "cell_type": "code",
   "execution_count": 25,
   "metadata": {},
   "outputs": [],
   "source": [
    "def evaluate_kernel(X_train, X_test, y_test, alpha, c):\n",
    "    \"\"\"Returns the mse for a given Gaussian kernel ridge regression fit.\n",
    "    Also return y_hats , i.e. the pred y\"\"\"\n",
    "    \n",
    "    if X_train.ndim == 1 or X_test.ndim == 1:\n",
    "        X_train = X_train[:,None]\n",
    "        X_test = X_test[:, None]\n",
    "    y_hats = np.zeros_like(y_test)\n",
    "    for el in range(y_hats.shape[0]):\n",
    "        for i in range(alpha.shape[0]):\n",
    "            y_hats[el] += alpha[i] * kernel(X_train[i,:], X_test[el,:], c) \n",
    "    residuals  = y_test - y_hats\n",
    "    mse = np.mean(residuals ** 2)\n",
    "    return mse, y_hats"
   ]
  },
  {
   "cell_type": "code",
   "execution_count": 44,
   "metadata": {},
   "outputs": [
    {
     "data": {
      "image/png": "[encoded data removed]",
      "text/plain": [
       "<Figure size 432x288 with 1 Axes>"
      ]
     },
     "metadata": {
      "needs_background": "light"
     },
     "output_type": "display_data"
    }
   ],
   "source": [
    "# Bringing everything together to play with the value of c\n",
    "\n",
    "# Change c here and re-run the cell to see its effect on regression.\n",
    "c = 0\n",
    "\n",
    "# Make kernel metrix\n",
    "design = kernel_matrix(x, c)\n",
    "\n",
    "# Fit\n",
    "alpha = kernel_regression(design, y)\n",
    "\n",
    "# Evaluate\n",
    "mse, y_hats = evaluate_kernel(x, x, y, alpha, c)\n",
    "\n",
    "# Plot\n",
    "plt.plot(x, y_hats, c = 'red')\n",
    "plt.scatter(x, y);"
   ]
  },
  {
   "cell_type": "markdown",
   "metadata": {},
   "source": [
    "We can see, by playing around with c, that the effect it has on linear regression is allowing learning of the bias term. If c = 0, our model cannot learn the bias term. For any c > 0, the model is capable of learning the bias term, improving regression accuracy."
   ]
  }
 ],
 "metadata": {
  "interpreter": {
   "hash": "be336ab25ba919cf0a65f4be83b938febf47f529e9f75dfb16359f541885e1c6"
  },
  "kernelspec": {
   "display_name": "Python 3.8.11 64-bit ('machinevision': conda)",
   "name": "python3"
  },
  "language_info": {
   "codemirror_mode": {
    "name": "ipython",
    "version": 3
   },
   "file_extension": ".py",
   "mimetype": "text/x-python",
   "name": "python",
   "nbconvert_exporter": "python",
   "pygments_lexer": "ipython3",
   "version": "3.8.11"
  },
  "orig_nbformat": 4
 },
 "nbformat": 4,
 "nbformat_minor": 2
}
